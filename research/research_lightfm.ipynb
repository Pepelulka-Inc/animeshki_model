{
 "cells": [
  {
   "cell_type": "code",
   "execution_count": 1,
   "metadata": {},
   "outputs": [
    {
     "name": "stdout",
     "output_type": "stream",
     "text": [
      "Defaulting to user installation because normal site-packages is not writeable\n",
      "Requirement already satisfied: kagglehub in /home/lockr/.local/lib/python3.10/site-packages (0.3.4)\n",
      "Requirement already satisfied: Rectools in /home/lockr/.local/lib/python3.10/site-packages (0.8.0)\n",
      "Requirement already satisfied: requests in /home/lockr/.local/lib/python3.10/site-packages (from kagglehub) (2.32.3)\n",
      "Requirement already satisfied: tqdm in /home/lockr/.local/lib/python3.10/site-packages (from kagglehub) (4.66.4)\n",
      "Requirement already satisfied: packaging in /home/lockr/.local/lib/python3.10/site-packages (from kagglehub) (24.0)\n",
      "Requirement already satisfied: pandas<3.0.0,>=1.5.0 in /home/lockr/.local/lib/python3.10/site-packages (from Rectools) (1.5.3)\n",
      "Requirement already satisfied: typeguard<5.0.0,>=4.1.0 in /home/lockr/.local/lib/python3.10/site-packages (from Rectools) (4.4.1)\n",
      "Requirement already satisfied: implicit<0.8.0,>=0.7.1 in /home/lockr/.local/lib/python3.10/site-packages (from Rectools) (0.7.2)\n",
      "Requirement already satisfied: numpy<2.0.0,>=1.22 in /home/lockr/.local/lib/python3.10/site-packages (from Rectools) (1.25.2)\n",
      "Requirement already satisfied: attrs<24.0.0,>=19.1.0 in /home/lockr/.local/lib/python3.10/site-packages (from Rectools) (23.2.0)\n",
      "Requirement already satisfied: scipy<1.13,>=1.10.1 in /home/lockr/.local/lib/python3.10/site-packages (from Rectools) (1.12.0)\n",
      "Requirement already satisfied: threadpoolctl in /home/lockr/.local/lib/python3.10/site-packages (from implicit<0.8.0,>=0.7.1->Rectools) (3.5.0)\n",
      "Requirement already satisfied: python-dateutil>=2.8.1 in /home/lockr/.local/lib/python3.10/site-packages (from pandas<3.0.0,>=1.5.0->Rectools) (2.8.2)\n",
      "Requirement already satisfied: pytz>=2020.1 in /home/lockr/.local/lib/python3.10/site-packages (from pandas<3.0.0,>=1.5.0->Rectools) (2024.1)\n",
      "Requirement already satisfied: typing-extensions>=4.10.0 in /home/lockr/.local/lib/python3.10/site-packages (from typeguard<5.0.0,>=4.1.0->Rectools) (4.12.2)\n",
      "Requirement already satisfied: charset-normalizer<4,>=2 in /home/lockr/.local/lib/python3.10/site-packages (from requests->kagglehub) (3.3.1)\n",
      "Requirement already satisfied: urllib3<3,>=1.21.1 in /home/lockr/.local/lib/python3.10/site-packages (from requests->kagglehub) (2.0.7)\n",
      "Requirement already satisfied: certifi>=2017.4.17 in /home/lockr/.local/lib/python3.10/site-packages (from requests->kagglehub) (2023.7.22)\n",
      "Requirement already satisfied: idna<4,>=2.5 in /home/lockr/.local/lib/python3.10/site-packages (from requests->kagglehub) (3.4)\n",
      "Requirement already satisfied: six>=1.5 in /home/lockr/.local/lib/python3.10/site-packages (from python-dateutil>=2.8.1->pandas<3.0.0,>=1.5.0->Rectools) (1.16.0)\n"
     ]
    }
   ],
   "source": [
    "! pip install kagglehub Rectools"
   ]
  },
  {
   "cell_type": "code",
   "execution_count": 2,
   "metadata": {},
   "outputs": [
    {
     "name": "stderr",
     "output_type": "stream",
     "text": [
      "/home/lockr/.local/lib/python3.10/site-packages/tqdm/auto.py:21: TqdmWarning: IProgress not found. Please update jupyter and ipywidgets. See https://ipywidgets.readthedocs.io/en/stable/user_install.html\n",
      "  from .autonotebook import tqdm as notebook_tqdm\n"
     ]
    },
    {
     "name": "stdout",
     "output_type": "stream",
     "text": [
      "Path to dataset files: /home/lockr/.cache/kagglehub/datasets/CooperUnion/anime-recommendations-database/versions/1\n"
     ]
    }
   ],
   "source": [
    "import kagglehub\n",
    "\n",
    "# Download latest version\n",
    "path = kagglehub.dataset_download(\"CooperUnion/anime-recommendations-database\")\n",
    "\n",
    "print(\"Path to dataset files:\", path)"
   ]
  },
  {
   "cell_type": "code",
   "execution_count": 3,
   "metadata": {},
   "outputs": [],
   "source": [
    "import pandas as pd\n",
    "import numpy as np\n",
    "from lightfm import LightFM\n",
    "from tqdm.autonotebook import tqdm as notebook_tqdm\n",
    "from rectools.models.lightfm import LightFMWrapperModel\n",
    "from rectools.dataset import Dataset\n",
    "from rectools import Columns\n",
    "\n",
    "def sparsing(features, column):\n",
    "    features = pd.get_dummies(features)\n",
    "    features_frames = []\n",
    "    for feature in features.columns[1:]:\n",
    "        feature_frame = features.reindex(columns=[column, feature])\n",
    "        feature_frame.columns = [\"id\", \"value\"]\n",
    "        feature_frame[\"feature\"] = feature\n",
    "        features_frames.append(feature_frame)\n",
    "    return pd.concat(features_frames)"
   ]
  },
  {
   "cell_type": "code",
   "execution_count": 21,
   "metadata": {},
   "outputs": [],
   "source": [
    "anime = pd.read_csv(path + '/anime.csv')\n",
    "ratings = pd.read_csv(path + '/rating.csv')\n",
    "anime.drop('rating', axis=1, inplace=True)\n",
    "anime.rename(columns={'anime_id': 'id'}, inplace=True)\n",
    "ratings = ratings[ratings['rating']!=-1]\n",
    "ratings.columns = [Columns.User, Columns.Item,  Columns.Weight]\n",
    "ratings['datetime'] = ratings.groupby(Columns.User).cumcount()\n"
   ]
  },
  {
   "cell_type": "code",
   "execution_count": 79,
   "metadata": {},
   "outputs": [],
   "source": [
    "from typing import Mapping, Sequence\n",
    "\n",
    "import numpy as np\n",
    "import pandas as pd\n",
    "import polars as pl\n",
    "\n",
    "def evaluate(ref_path, pred_path, train_path, K):\n",
    "    ndcg_weights = 1.0 / np.log2(np.arange(0, K) + 2)\n",
    "    ndcg_idcg = ndcg_weights.cumsum()\n",
    "    def evaluate_inside(ref_path, pred_path, train_path):\n",
    "\n",
    "        submission = pl.read_parquet(pred_path)\n",
    "        ref_df = pl.read_parquet(ref_path)\n",
    "        train = pl.read_parquet(train_path)\n",
    "\n",
    "        submission = (\n",
    "            submission\n",
    "            .select(\n",
    "                pl.col(\"user_id\").cast(pl.Int64),\n",
    "                pl.col(\"item_id\").cast(pl.List(pl.Int64)).alias(\"predicted\"),\n",
    "            )\n",
    "            .unique(subset=\"user_id\")\n",
    "            .with_columns(\n",
    "                pl.col(\"predicted\").list.unique(maintain_order=True)\n",
    "            )\n",
    "        )\n",
    "\n",
    "        ground_truth = ref_df.with_columns(pl.col(\"item_id\").alias(\"ground_truth\"))\n",
    "\n",
    "        submission_with_gt = ground_truth.join(submission, on=\"user_id\", how=\"left\")\n",
    "\n",
    "        metrics_per_user = submission_with_gt.select(\n",
    "            pl.col(\"user_id\"),\n",
    "            pl.struct(\"predicted\", \"ground_truth\").map_elements(ndcg_per_user).alias(\"ndcg\"),\n",
    "        )\n",
    "        mean_ndcg = metrics_per_user.select(pl.col(\"ndcg\").mean())[\"ndcg\"][0]\n",
    "        \n",
    "        metrics_per_user = submission_with_gt.select(\n",
    "            pl.col(\"user_id\"),\n",
    "            pl.struct(\"predicted\", \"ground_truth\").map_elements(hitrate_per_user).alias(\"hitrate\"),\n",
    "        )\n",
    "        mean_hitrate = metrics_per_user.select(pl.col(\"hitrate\").mean())[\"hitrate\"][0]\n",
    "        \n",
    "        coverage = compute_coverage(submission, train)\n",
    "        novelty = compute_novelty(submission, train)\n",
    "\n",
    "        return {'ndcg': mean_ndcg,\n",
    "                'hitrate': mean_hitrate,\n",
    "                'coverage': coverage,\n",
    "                'novelty': novelty}\n",
    "\n",
    "\n",
    "    def ndcg_per_user(pl_struct: Mapping[str, Sequence[int]]) -> float:\n",
    "\n",
    "        predicted = pl_struct[\"predicted\"]\n",
    "        ground_truth = pl_struct[\"ground_truth\"]\n",
    "\n",
    "        if predicted is None:\n",
    "            return 0.0\n",
    "\n",
    "        assert ground_truth is not None\n",
    "        assert len(ground_truth) > 0\n",
    "\n",
    "        predicted_np = np.array(predicted[:K])\n",
    "        ground_truth_np = np.array(ground_truth)\n",
    "\n",
    "        predicted_count = min(len(predicted_np), K)\n",
    "        gt_count = min(len(ground_truth_np), K)\n",
    "\n",
    "        hits = (predicted_np.reshape(-1, 1) == ground_truth_np.reshape(1, -1)).sum(axis=1)\n",
    "        dcg = (hits * ndcg_weights[:predicted_count]).sum()\n",
    "        idcg = ndcg_idcg[gt_count - 1]\n",
    "        ndcg = dcg / idcg\n",
    "        return ndcg\n",
    "\n",
    "\n",
    "    def hitrate_per_user(pl_struct: Mapping[str, Sequence[int]]) -> float:\n",
    "\n",
    "        predicted = pl_struct[\"predicted\"]\n",
    "        ground_truth = pl_struct[\"ground_truth\"]\n",
    "\n",
    "        if predicted is None:\n",
    "            return 0.0\n",
    "\n",
    "        assert ground_truth is not None\n",
    "        assert len(ground_truth) > 0\n",
    "\n",
    "        predicted_np = np.array(predicted[:K])\n",
    "        ground_truth_np = np.array(ground_truth)\n",
    "\n",
    "        hitrate = int(len(np.intersect1d(predicted_np, ground_truth_np)) > 0)\n",
    "\n",
    "        return hitrate\n",
    "\n",
    "\n",
    "    def compute_coverage(submission, train):\n",
    "        \n",
    "        list_of_lists = submission.select('predicted').to_series().to_list()\n",
    "        all_pred_items = [x for xs in list_of_lists for x in xs]\n",
    "        all_pred_items = set(all_pred_items)\n",
    "        \n",
    "        all_train_items = train.select('item_id').unique().to_series().to_list()\n",
    "        \n",
    "        coverage = len(all_pred_items.intersection(all_train_items)) / len(all_train_items)\n",
    "        \n",
    "        return coverage\n",
    "\n",
    "\n",
    "    def compute_novelty(submission, train):\n",
    "        \n",
    "        num_interactions = len(train)\n",
    "        item_stats = train.group_by('item_id').count()\n",
    "        item_stats = item_stats.with_columns(-np.log2(pl.col('count') / num_interactions).alias('item_novelty'))\n",
    "        item_stats = item_stats.with_columns((pl.col('item_novelty') / np.log2(num_interactions)))\n",
    "        item_stats = item_stats.select('item_id', 'item_novelty').to_pandas()\n",
    "        \n",
    "        list_of_lists = submission.select('predicted').to_series().to_list()\n",
    "        all_pred_items = [x for xs in list_of_lists for x in xs]\n",
    "        num_recommendations = len(all_pred_items)\n",
    "        \n",
    "        recs_items = pd.Series(all_pred_items).value_counts().reset_index()\n",
    "        recs_items.columns = ['item_id', 'item_count']\n",
    "        recs_items = pd.merge(recs_items, item_stats)\n",
    "        recs_items['product'] = recs_items['item_count'] * recs_items['item_novelty']\n",
    "\n",
    "        novelty = recs_items['product'].sum() / num_recommendations\n",
    "\n",
    "        return novelty\n",
    "    \n",
    "    return evaluate_inside(ref_path, pred_path, train_path)"
   ]
  },
  {
   "cell_type": "code",
   "execution_count": 73,
   "metadata": {},
   "outputs": [
    {
     "name": "stderr",
     "output_type": "stream",
     "text": [
      "Epoch: 100%|██████████| 10/10 [00:31<00:00,  3.12s/it]\n"
     ]
    }
   ],
   "source": [
    "from rectools.model_selection.last_n_split import LastNSplitter\n",
    "from rectools.dataset.interactions import Interactions\n",
    "\n",
    "splitter  = LastNSplitter(10, filter_cold_users=True, filter_cold_items=True, filter_already_seen=True)\n",
    "\n",
    "train_ids, test_ids = [], []\n",
    "\n",
    "for train_ids, test_ids, _ in splitter.split(Interactions(ratings)):\n",
    "    train_ids, test_ids = train_ids, test_ids\n",
    "\n",
    "\n",
    "train = ratings.iloc[train_ids, :]\n",
    "test = ratings.iloc[test_ids, :]\n",
    "\n",
    "\n",
    "dataset = Dataset.construct(\n",
    "    interactions_df=train, \n",
    "    # item_features_df=anime,\n",
    "    )\n",
    "\n",
    "model = LightFMWrapperModel(LightFM(loss='warp-kos', no_components=10), epochs=10, num_threads=12, verbose=True)\n",
    "model.fit(dataset)\n",
    "\n",
    "# Make recommendations\n",
    "recos = model.recommend(\n",
    "    users=test.user_id.unique(),\n",
    "    dataset=dataset,\n",
    "    k=10,\n",
    "    filter_viewed=True\n",
    ")\n",
    "\n",
    "\n",
    "pd.DataFrame(recos.groupby('user_id')['item_id'].apply(set)).to_parquet('submission.parquet')\n",
    "pd.DataFrame(test.groupby('user_id')['item_id'].apply(set)).to_parquet('gt.parquet')\n",
    "ratings.to_parquet('train.parquet')"
   ]
  },
  {
   "cell_type": "code",
   "execution_count": 80,
   "metadata": {},
   "outputs": [
    {
     "name": "stderr",
     "output_type": "stream",
     "text": [
      "sys:1: MapWithoutReturnDtypeWarning: Calling `map_elements` without specifying `return_dtype` can lead to unpredictable results. Specify `return_dtype` to silence this warning.\n",
      "sys:1: MapWithoutReturnDtypeWarning: Calling `map_elements` without specifying `return_dtype` can lead to unpredictable results. Specify `return_dtype` to silence this warning.\n",
      "/tmp/ipykernel_15284/200782597.py:112: DeprecationWarning: `GroupBy.count` is deprecated. It has been renamed to `len`.\n",
      "  item_stats = train.group_by('item_id').count()\n"
     ]
    },
    {
     "data": {
      "text/plain": [
       "{'ndcg': 0.024063982545459103,\n",
       " 'hitrate': 0.16958783808715547,\n",
       " 'coverage': 0.14808099123602297,\n",
       " 'novelty': 0.4088066253854988}"
      ]
     },
     "execution_count": 80,
     "metadata": {},
     "output_type": "execute_result"
    }
   ],
   "source": [
    "evaluate('gt.parquet', 'submission.parquet', 'train.parquet', 10)"
   ]
  },
  {
   "cell_type": "code",
   "execution_count": 82,
   "metadata": {},
   "outputs": [
    {
     "name": "stderr",
     "output_type": "stream",
     "text": [
      "Epoch: 100%|██████████| 10/10 [00:34<00:00,  3.45s/it]\n",
      "sys:1: MapWithoutReturnDtypeWarning: Calling `map_elements` without specifying `return_dtype` can lead to unpredictable results. Specify `return_dtype` to silence this warning.\n",
      "sys:1: MapWithoutReturnDtypeWarning: Calling `map_elements` without specifying `return_dtype` can lead to unpredictable results. Specify `return_dtype` to silence this warning.\n",
      "/tmp/ipykernel_15284/200782597.py:112: DeprecationWarning: `GroupBy.count` is deprecated. It has been renamed to `len`.\n",
      "  item_stats = train.group_by('item_id').count()\n"
     ]
    },
    {
     "data": {
      "text/plain": [
       "{'ndcg': 0.011904855062562694,\n",
       " 'hitrate': 0.03442646564555625,\n",
       " 'coverage': 0.10879419764279238,\n",
       " 'novelty': 0.40193698130963096}"
      ]
     },
     "execution_count": 82,
     "metadata": {},
     "output_type": "execute_result"
    }
   ],
   "source": [
    "from rectools.model_selection.last_n_split import LastNSplitter\n",
    "from rectools.dataset.interactions import Interactions\n",
    "\n",
    "NUM_OF_SAMPELS = 3\n",
    "\n",
    "splitter  = LastNSplitter(NUM_OF_SAMPELS, filter_cold_users=True, filter_cold_items=True, filter_already_seen=True)\n",
    "\n",
    "train_ids, test_ids = [], []\n",
    "\n",
    "for train_ids, test_ids, _ in splitter.split(Interactions(ratings)):\n",
    "    train_ids, test_ids = train_ids, test_ids\n",
    "\n",
    "\n",
    "train = ratings.iloc[train_ids, :]\n",
    "test = ratings.iloc[test_ids, :]\n",
    "\n",
    "\n",
    "dataset = Dataset.construct(\n",
    "    interactions_df=train, \n",
    "    # item_features_df=anime,\n",
    "    )\n",
    "\n",
    "model = LightFMWrapperModel(LightFM(loss='warp-kos', no_components=10), epochs=10, num_threads=12, verbose=True)\n",
    "model.fit(dataset)\n",
    "\n",
    "# Make recommendations\n",
    "recos = model.recommend(\n",
    "    users=test.user_id.unique(),\n",
    "    dataset=dataset,\n",
    "    k=NUM_OF_SAMPELS,\n",
    "    filter_viewed=True\n",
    ")\n",
    "\n",
    "\n",
    "pd.DataFrame(recos.groupby('user_id')['item_id'].apply(set)).to_parquet('submission.parquet')\n",
    "pd.DataFrame(test.groupby('user_id')['item_id'].apply(set)).to_parquet('gt.parquet')\n",
    "ratings.to_parquet('train.parquet')\n",
    "\n",
    "evaluate('gt.parquet', 'submission.parquet', 'train.parquet', NUM_OF_SAMPELS)"
   ]
  },
  {
   "cell_type": "code",
   "execution_count": 83,
   "metadata": {},
   "outputs": [
    {
     "name": "stderr",
     "output_type": "stream",
     "text": [
      "Epoch: 100%|██████████| 10/10 [00:34<00:00,  3.42s/it]\n",
      "sys:1: MapWithoutReturnDtypeWarning: Calling `map_elements` without specifying `return_dtype` can lead to unpredictable results. Specify `return_dtype` to silence this warning.\n",
      "sys:1: MapWithoutReturnDtypeWarning: Calling `map_elements` without specifying `return_dtype` can lead to unpredictable results. Specify `return_dtype` to silence this warning.\n",
      "/tmp/ipykernel_15284/200782597.py:112: DeprecationWarning: `GroupBy.count` is deprecated. It has been renamed to `len`.\n",
      "  item_stats = train.group_by('item_id').count()\n"
     ]
    },
    {
     "data": {
      "text/plain": [
       "{'ndcg': 0.006001658749905753,\n",
       " 'hitrate': 0.006001658749905753,\n",
       " 'coverage': 0.08562506295960512,\n",
       " 'novelty': 0.39769777619904334}"
      ]
     },
     "execution_count": 83,
     "metadata": {},
     "output_type": "execute_result"
    }
   ],
   "source": [
    "from rectools.model_selection.last_n_split import LastNSplitter\n",
    "from rectools.dataset.interactions import Interactions\n",
    "\n",
    "NUM_OF_SAMPELS = 1\n",
    "\n",
    "splitter  = LastNSplitter(NUM_OF_SAMPELS, filter_cold_users=True, filter_cold_items=True, filter_already_seen=True)\n",
    "\n",
    "train_ids, test_ids = [], []\n",
    "\n",
    "for train_ids, test_ids, _ in splitter.split(Interactions(ratings)):\n",
    "    train_ids, test_ids = train_ids, test_ids\n",
    "\n",
    "\n",
    "train = ratings.iloc[train_ids, :]\n",
    "test = ratings.iloc[test_ids, :]\n",
    "\n",
    "\n",
    "dataset = Dataset.construct(\n",
    "    interactions_df=train, \n",
    "    # item_features_df=anime,\n",
    "    )\n",
    "\n",
    "model = LightFMWrapperModel(LightFM(loss='warp', no_components=10), epochs=10, num_threads=12, verbose=True)\n",
    "model.fit(dataset)\n",
    "\n",
    "# Make recommendations\n",
    "recos = model.recommend(\n",
    "    users=test.user_id.unique(),\n",
    "    dataset=dataset,\n",
    "    k=NUM_OF_SAMPELS,\n",
    "    filter_viewed=True\n",
    ")\n",
    "\n",
    "\n",
    "pd.DataFrame(recos.groupby('user_id')['item_id'].apply(set)).to_parquet('submission.parquet')\n",
    "pd.DataFrame(test.groupby('user_id')['item_id'].apply(set)).to_parquet('gt.parquet')\n",
    "ratings.to_parquet('train.parquet')\n",
    "\n",
    "evaluate('gt.parquet', 'submission.parquet', 'train.parquet', NUM_OF_SAMPELS)"
   ]
  },
  {
   "cell_type": "code",
   "execution_count": 84,
   "metadata": {},
   "outputs": [
    {
     "name": "stderr",
     "output_type": "stream",
     "text": [
      "Epoch: 100%|██████████| 10/10 [00:16<00:00,  1.69s/it]\n",
      "sys:1: MapWithoutReturnDtypeWarning: Calling `map_elements` without specifying `return_dtype` can lead to unpredictable results. Specify `return_dtype` to silence this warning.\n",
      "sys:1: MapWithoutReturnDtypeWarning: Calling `map_elements` without specifying `return_dtype` can lead to unpredictable results. Specify `return_dtype` to silence this warning.\n",
      "/tmp/ipykernel_15284/200782597.py:112: DeprecationWarning: `GroupBy.count` is deprecated. It has been renamed to `len`.\n",
      "  item_stats = train.group_by('item_id').count()\n"
     ]
    },
    {
     "data": {
      "text/plain": [
       "{'ndcg': 0.025885971358933446,\n",
       " 'hitrate': 0.19157964650750894,\n",
       " 'coverage': 0.1386118666263725,\n",
       " 'novelty': 0.4000985249487645}"
      ]
     },
     "execution_count": 84,
     "metadata": {},
     "output_type": "execute_result"
    }
   ],
   "source": [
    "from rectools.model_selection.last_n_split import LastNSplitter\n",
    "from rectools.dataset.interactions import Interactions\n",
    "\n",
    "NUM_OF_SAMPELS = 10\n",
    "\n",
    "splitter  = LastNSplitter(NUM_OF_SAMPELS, filter_cold_users=True, filter_cold_items=True, filter_already_seen=True)\n",
    "\n",
    "train_ids, test_ids = [], []\n",
    "\n",
    "for train_ids, test_ids, _ in splitter.split(Interactions(ratings)):\n",
    "    train_ids, test_ids = train_ids, test_ids\n",
    "\n",
    "\n",
    "train = ratings.iloc[train_ids, :]\n",
    "test = ratings.iloc[test_ids, :]\n",
    "\n",
    "\n",
    "dataset = Dataset.construct(\n",
    "    interactions_df=train, \n",
    "    # item_features_df=anime,\n",
    "    )\n",
    "\n",
    "model = LightFMWrapperModel(LightFM(loss='warp', no_components=10), epochs=10, num_threads=12, verbose=True)\n",
    "model.fit(dataset)\n",
    "\n",
    "# Make recommendations\n",
    "recos = model.recommend(\n",
    "    users=test.user_id.unique(),\n",
    "    dataset=dataset,\n",
    "    k=NUM_OF_SAMPELS,\n",
    "    filter_viewed=True\n",
    ")\n",
    "\n",
    "\n",
    "pd.DataFrame(recos.groupby('user_id')['item_id'].apply(set)).to_parquet('submission.parquet')\n",
    "pd.DataFrame(test.groupby('user_id')['item_id'].apply(set)).to_parquet('gt.parquet')\n",
    "ratings.to_parquet('train.parquet')\n",
    "\n",
    "evaluate('gt.parquet', 'submission.parquet', 'train.parquet', NUM_OF_SAMPELS)"
   ]
  },
  {
   "cell_type": "code",
   "execution_count": 85,
   "metadata": {},
   "outputs": [
    {
     "name": "stderr",
     "output_type": "stream",
     "text": [
      "Epoch: 100%|██████████| 10/10 [00:37<00:00,  3.78s/it]\n",
      "sys:1: MapWithoutReturnDtypeWarning: Calling `map_elements` without specifying `return_dtype` can lead to unpredictable results. Specify `return_dtype` to silence this warning.\n",
      "sys:1: MapWithoutReturnDtypeWarning: Calling `map_elements` without specifying `return_dtype` can lead to unpredictable results. Specify `return_dtype` to silence this warning.\n",
      "/tmp/ipykernel_15284/200782597.py:112: DeprecationWarning: `GroupBy.count` is deprecated. It has been renamed to `len`.\n",
      "  item_stats = train.group_by('item_id').count()\n"
     ]
    },
    {
     "data": {
      "text/plain": [
       "{'ndcg': 0.03229466508893545,\n",
       " 'hitrate': 0.22054536732961882,\n",
       " 'coverage': 0.28991638964440414,\n",
       " 'novelty': 0.42363002415881124}"
      ]
     },
     "execution_count": 85,
     "metadata": {},
     "output_type": "execute_result"
    }
   ],
   "source": [
    "from rectools.model_selection.last_n_split import LastNSplitter\n",
    "from rectools.dataset.interactions import Interactions\n",
    "\n",
    "NUM_OF_SAMPELS = 10\n",
    "\n",
    "splitter  = LastNSplitter(NUM_OF_SAMPELS, filter_cold_users=True, filter_cold_items=True, filter_already_seen=True)\n",
    "\n",
    "train_ids, test_ids = [], []\n",
    "\n",
    "for train_ids, test_ids, _ in splitter.split(Interactions(ratings)):\n",
    "    train_ids, test_ids = train_ids, test_ids\n",
    "\n",
    "\n",
    "train = ratings.iloc[train_ids, :]\n",
    "test = ratings.iloc[test_ids, :]\n",
    "\n",
    "\n",
    "dataset = Dataset.construct(\n",
    "    interactions_df=train, \n",
    "    # item_features_df=anime,\n",
    "    )\n",
    "\n",
    "model = LightFMWrapperModel(LightFM(loss='warp', no_components=100), epochs=10, num_threads=12, verbose=True)\n",
    "model.fit(dataset)\n",
    "\n",
    "# Make recommendations\n",
    "recos = model.recommend(\n",
    "    users=test.user_id.unique(),\n",
    "    dataset=dataset,\n",
    "    k=NUM_OF_SAMPELS,\n",
    "    filter_viewed=True\n",
    ")\n",
    "\n",
    "\n",
    "pd.DataFrame(recos.groupby('user_id')['item_id'].apply(set)).to_parquet('submission.parquet')\n",
    "pd.DataFrame(test.groupby('user_id')['item_id'].apply(set)).to_parquet('gt.parquet')\n",
    "ratings.to_parquet('train.parquet')\n",
    "\n",
    "evaluate('gt.parquet', 'submission.parquet', 'train.parquet', NUM_OF_SAMPELS)"
   ]
  },
  {
   "cell_type": "code",
   "execution_count": 86,
   "metadata": {},
   "outputs": [
    {
     "name": "stderr",
     "output_type": "stream",
     "text": [
      "Epoch: 100%|██████████| 100/100 [06:03<00:00,  3.63s/it]\n",
      "sys:1: MapWithoutReturnDtypeWarning: Calling `map_elements` without specifying `return_dtype` can lead to unpredictable results. Specify `return_dtype` to silence this warning.\n",
      "sys:1: MapWithoutReturnDtypeWarning: Calling `map_elements` without specifying `return_dtype` can lead to unpredictable results. Specify `return_dtype` to silence this warning.\n",
      "/tmp/ipykernel_15284/200782597.py:112: DeprecationWarning: `GroupBy.count` is deprecated. It has been renamed to `len`.\n",
      "  item_stats = train.group_by('item_id').count()\n"
     ]
    },
    {
     "data": {
      "text/plain": [
       "{'ndcg': 0.04107740887693496,\n",
       " 'hitrate': 0.282554149293384,\n",
       " 'coverage': 0.4149289815654276,\n",
       " 'novelty': 0.44159226272999375}"
      ]
     },
     "execution_count": 86,
     "metadata": {},
     "output_type": "execute_result"
    }
   ],
   "source": [
    "from rectools.model_selection.last_n_split import LastNSplitter\n",
    "from rectools.dataset.interactions import Interactions\n",
    "\n",
    "NUM_OF_SAMPELS = 10\n",
    "\n",
    "splitter  = LastNSplitter(NUM_OF_SAMPELS, filter_cold_users=True, filter_cold_items=True, filter_already_seen=True)\n",
    "\n",
    "train_ids, test_ids = [], []\n",
    "\n",
    "for train_ids, test_ids, _ in splitter.split(Interactions(ratings)):\n",
    "    train_ids, test_ids = train_ids, test_ids\n",
    "\n",
    "\n",
    "train = ratings.iloc[train_ids, :]\n",
    "test = ratings.iloc[test_ids, :]\n",
    "\n",
    "\n",
    "dataset = Dataset.construct(\n",
    "    interactions_df=train, \n",
    "    # item_features_df=anime,\n",
    "    )\n",
    "\n",
    "model = LightFMWrapperModel(LightFM(loss='warp', no_components=100), epochs=100, num_threads=12, verbose=True)\n",
    "model.fit(dataset)\n",
    "\n",
    "# Make recommendations\n",
    "recos = model.recommend(\n",
    "    users=test.user_id.unique(),\n",
    "    dataset=dataset,\n",
    "    k=NUM_OF_SAMPELS,\n",
    "    filter_viewed=True\n",
    ")\n",
    "\n",
    "\n",
    "pd.DataFrame(recos.groupby('user_id')['item_id'].apply(set)).to_parquet('submission.parquet')\n",
    "pd.DataFrame(test.groupby('user_id')['item_id'].apply(set)).to_parquet('gt.parquet')\n",
    "ratings.to_parquet('train.parquet')\n",
    "\n",
    "evaluate('gt.parquet', 'submission.parquet', 'train.parquet', NUM_OF_SAMPELS)"
   ]
  },
  {
   "cell_type": "code",
   "execution_count": 87,
   "metadata": {},
   "outputs": [
    {
     "name": "stderr",
     "output_type": "stream",
     "text": [
      "Epoch: 100%|██████████| 100/100 [02:22<00:00,  1.43s/it]\n",
      "sys:1: MapWithoutReturnDtypeWarning: Calling `map_elements` without specifying `return_dtype` can lead to unpredictable results. Specify `return_dtype` to silence this warning.\n",
      "sys:1: MapWithoutReturnDtypeWarning: Calling `map_elements` without specifying `return_dtype` can lead to unpredictable results. Specify `return_dtype` to silence this warning.\n",
      "/tmp/ipykernel_15284/200782597.py:112: DeprecationWarning: `GroupBy.count` is deprecated. It has been renamed to `len`.\n",
      "  item_stats = train.group_by('item_id').count()\n"
     ]
    },
    {
     "data": {
      "text/plain": [
       "{'ndcg': 0.028134504467381565,\n",
       " 'hitrate': 0.20034316076897532,\n",
       " 'coverage': 0.2026795607937947,\n",
       " 'novelty': 0.4116600815170103}"
      ]
     },
     "execution_count": 87,
     "metadata": {},
     "output_type": "execute_result"
    }
   ],
   "source": [
    "from rectools.model_selection.last_n_split import LastNSplitter\n",
    "from rectools.dataset.interactions import Interactions\n",
    "\n",
    "NUM_OF_SAMPELS = 10\n",
    "\n",
    "splitter  = LastNSplitter(NUM_OF_SAMPELS, filter_cold_users=True, filter_cold_items=True, filter_already_seen=True)\n",
    "\n",
    "train_ids, test_ids = [], []\n",
    "\n",
    "for train_ids, test_ids, _ in splitter.split(Interactions(ratings)):\n",
    "    train_ids, test_ids = train_ids, test_ids\n",
    "\n",
    "\n",
    "train = ratings.iloc[train_ids, :]\n",
    "test = ratings.iloc[test_ids, :]\n",
    "\n",
    "\n",
    "dataset = Dataset.construct(\n",
    "    interactions_df=train, \n",
    "    # item_features_df=anime,\n",
    "    )\n",
    "\n",
    "model = LightFMWrapperModel(LightFM(loss='warp', no_components=10), epochs=100, num_threads=12, verbose=True)\n",
    "model.fit(dataset)\n",
    "\n",
    "# Make recommendations\n",
    "recos = model.recommend(\n",
    "    users=test.user_id.unique(),\n",
    "    dataset=dataset,\n",
    "    k=NUM_OF_SAMPELS,\n",
    "    filter_viewed=True\n",
    ")\n",
    "\n",
    "\n",
    "pd.DataFrame(recos.groupby('user_id')['item_id'].apply(set)).to_parquet('submission.parquet')\n",
    "pd.DataFrame(test.groupby('user_id')['item_id'].apply(set)).to_parquet('gt.parquet')\n",
    "ratings.to_parquet('train.parquet')\n",
    "\n",
    "evaluate('gt.parquet', 'submission.parquet', 'train.parquet', NUM_OF_SAMPELS)"
   ]
  },
  {
   "cell_type": "code",
   "execution_count": 88,
   "metadata": {},
   "outputs": [
    {
     "name": "stderr",
     "output_type": "stream",
     "text": [
      "Epoch: 100%|██████████| 100/100 [09:29<00:00,  5.70s/it]\n",
      "sys:1: MapWithoutReturnDtypeWarning: Calling `map_elements` without specifying `return_dtype` can lead to unpredictable results. Specify `return_dtype` to silence this warning.\n",
      "sys:1: MapWithoutReturnDtypeWarning: Calling `map_elements` without specifying `return_dtype` can lead to unpredictable results. Specify `return_dtype` to silence this warning.\n",
      "/tmp/ipykernel_15284/200782597.py:112: DeprecationWarning: `GroupBy.count` is deprecated. It has been renamed to `len`.\n",
      "  item_stats = train.group_by('item_id').count()\n"
     ]
    },
    {
     "data": {
      "text/plain": [
       "{'ndcg': 0.04567057675582652,\n",
       " 'hitrate': 0.3211874100586694,\n",
       " 'coverage': 0.33534804069708873,\n",
       " 'novelty': 0.43926556934212113}"
      ]
     },
     "execution_count": 88,
     "metadata": {},
     "output_type": "execute_result"
    }
   ],
   "source": [
    "from rectools.model_selection.last_n_split import LastNSplitter\n",
    "from rectools.dataset.interactions import Interactions\n",
    "\n",
    "NUM_OF_SAMPELS = 10\n",
    "\n",
    "splitter  = LastNSplitter(NUM_OF_SAMPELS, filter_cold_users=True, filter_cold_items=True, filter_already_seen=True)\n",
    "\n",
    "train_ids, test_ids = [], []\n",
    "\n",
    "for train_ids, test_ids, _ in splitter.split(Interactions(ratings)):\n",
    "    train_ids, test_ids = train_ids, test_ids\n",
    "\n",
    "\n",
    "train = ratings.iloc[train_ids, :]\n",
    "test = ratings.iloc[test_ids, :]\n",
    "\n",
    "\n",
    "dataset = Dataset.construct(\n",
    "    interactions_df=train, \n",
    "    # item_features_df=anime,\n",
    "    )\n",
    "\n",
    "model = LightFMWrapperModel(LightFM(loss='warp-kos', no_components=100), epochs=100, num_threads=12, verbose=True)\n",
    "model.fit(dataset)\n",
    "\n",
    "# Make recommendations\n",
    "recos = model.recommend(\n",
    "    users=test.user_id.unique(),\n",
    "    dataset=dataset,\n",
    "    k=NUM_OF_SAMPELS,\n",
    "    filter_viewed=True\n",
    ")\n",
    "\n",
    "\n",
    "pd.DataFrame(recos.groupby('user_id')['item_id'].apply(set)).to_parquet('submission.parquet')\n",
    "pd.DataFrame(test.groupby('user_id')['item_id'].apply(set)).to_parquet('gt.parquet')\n",
    "ratings.to_parquet('train.parquet')\n",
    "\n",
    "evaluate('gt.parquet', 'submission.parquet', 'train.parquet', NUM_OF_SAMPELS)"
   ]
  },
  {
   "cell_type": "code",
   "execution_count": 89,
   "metadata": {},
   "outputs": [
    {
     "name": "stderr",
     "output_type": "stream",
     "text": [
      "Epoch: 100%|██████████| 100/100 [04:55<00:00,  2.96s/it]\n",
      "sys:1: MapWithoutReturnDtypeWarning: Calling `map_elements` without specifying `return_dtype` can lead to unpredictable results. Specify `return_dtype` to silence this warning.\n",
      "sys:1: MapWithoutReturnDtypeWarning: Calling `map_elements` without specifying `return_dtype` can lead to unpredictable results. Specify `return_dtype` to silence this warning.\n",
      "/tmp/ipykernel_15284/200782597.py:112: DeprecationWarning: `GroupBy.count` is deprecated. It has been renamed to `len`.\n",
      "  item_stats = train.group_by('item_id').count()\n"
     ]
    },
    {
     "data": {
      "text/plain": [
       "{'ndcg': 0.010745014083999723,\n",
       " 'hitrate': 0.09960887052138298,\n",
       " 'coverage': 0.013599274705349048,\n",
       " 'novelty': 0.3804586473313905}"
      ]
     },
     "execution_count": 89,
     "metadata": {},
     "output_type": "execute_result"
    }
   ],
   "source": [
    "from rectools.model_selection.last_n_split import LastNSplitter\n",
    "from rectools.dataset.interactions import Interactions\n",
    "\n",
    "NUM_OF_SAMPELS = 10\n",
    "\n",
    "splitter  = LastNSplitter(NUM_OF_SAMPELS, filter_cold_users=True, filter_cold_items=True, filter_already_seen=True)\n",
    "\n",
    "train_ids, test_ids = [], []\n",
    "\n",
    "for train_ids, test_ids, _ in splitter.split(Interactions(ratings)):\n",
    "    train_ids, test_ids = train_ids, test_ids\n",
    "\n",
    "\n",
    "train = ratings.iloc[train_ids, :]\n",
    "test = ratings.iloc[test_ids, :]\n",
    "\n",
    "\n",
    "dataset = Dataset.construct(\n",
    "    interactions_df=train, \n",
    "    # item_features_df=anime,\n",
    "    )\n",
    "\n",
    "model = LightFMWrapperModel(LightFM(loss='logistic', no_components=100), epochs=100, num_threads=12, verbose=True)\n",
    "model.fit(dataset)\n",
    "\n",
    "# Make recommendations\n",
    "recos = model.recommend(\n",
    "    users=test.user_id.unique(),\n",
    "    dataset=dataset,\n",
    "    k=NUM_OF_SAMPELS,\n",
    "    filter_viewed=True\n",
    ")\n",
    "\n",
    "\n",
    "pd.DataFrame(recos.groupby('user_id')['item_id'].apply(set)).to_parquet('submission.parquet')\n",
    "pd.DataFrame(test.groupby('user_id')['item_id'].apply(set)).to_parquet('gt.parquet')\n",
    "ratings.to_parquet('train.parquet')\n",
    "\n",
    "evaluate('gt.parquet', 'submission.parquet', 'train.parquet', NUM_OF_SAMPELS)"
   ]
  },
  {
   "cell_type": "code",
   "execution_count": 91,
   "metadata": {},
   "outputs": [
    {
     "name": "stderr",
     "output_type": "stream",
     "text": [
      "Epoch: 100%|██████████| 100/100 [07:09<00:00,  4.29s/it]\n",
      "sys:1: MapWithoutReturnDtypeWarning: Calling `map_elements` without specifying `return_dtype` can lead to unpredictable results. Specify `return_dtype` to silence this warning.\n",
      "sys:1: MapWithoutReturnDtypeWarning: Calling `map_elements` without specifying `return_dtype` can lead to unpredictable results. Specify `return_dtype` to silence this warning.\n",
      "/tmp/ipykernel_15284/200782597.py:112: DeprecationWarning: `GroupBy.count` is deprecated. It has been renamed to `len`.\n",
      "  item_stats = train.group_by('item_id').count()\n"
     ]
    },
    {
     "data": {
      "text/plain": [
       "{'ndcg': 0.0679179745378838,\n",
       " 'hitrate': 0.7867503907428227,\n",
       " 'coverage': 0.42379369396595146,\n",
       " 'novelty': 0.457048397850819}"
      ]
     },
     "execution_count": 91,
     "metadata": {},
     "output_type": "execute_result"
    }
   ],
   "source": [
    "from rectools.model_selection.last_n_split import LastNSplitter\n",
    "from rectools.dataset.interactions import Interactions\n",
    "\n",
    "NUM_OF_SAMPELS = 40\n",
    "\n",
    "splitter  = LastNSplitter(NUM_OF_SAMPELS, filter_cold_users=True, filter_cold_items=True, filter_already_seen=True)\n",
    "\n",
    "train_ids, test_ids = [], []\n",
    "\n",
    "for train_ids, test_ids, _ in splitter.split(Interactions(ratings)):\n",
    "    train_ids, test_ids = train_ids, test_ids\n",
    "\n",
    "\n",
    "train = ratings.iloc[train_ids, :]\n",
    "test = ratings.iloc[test_ids, :]\n",
    "\n",
    "\n",
    "dataset = Dataset.construct(\n",
    "    interactions_df=train, \n",
    "    # item_features_df=anime,\n",
    "    )\n",
    "\n",
    "model = LightFMWrapperModel(LightFM(loss='warp-kos', no_components=100), epochs=100, num_threads=12, verbose=True)\n",
    "model.fit(dataset)\n",
    "\n",
    "# Make recommendations\n",
    "recos = model.recommend(\n",
    "    users=test.user_id.unique(),\n",
    "    dataset=dataset,\n",
    "    k=NUM_OF_SAMPELS,\n",
    "    filter_viewed=True\n",
    ")\n",
    "\n",
    "\n",
    "pd.DataFrame(recos.groupby('user_id')['item_id'].apply(set)).to_parquet('submission.parquet')\n",
    "pd.DataFrame(test.groupby('user_id')['item_id'].apply(set)).to_parquet('gt.parquet')\n",
    "ratings.to_parquet('train.parquet')\n",
    "\n",
    "evaluate('gt.parquet', 'submission.parquet', 'train.parquet', NUM_OF_SAMPELS)"
   ]
  },
  {
   "cell_type": "code",
   "execution_count": 92,
   "metadata": {},
   "outputs": [
    {
     "name": "stderr",
     "output_type": "stream",
     "text": [
      "Epoch: 100%|██████████| 100/100 [50:10<00:00, 30.11s/it]\n",
      "sys:1: MapWithoutReturnDtypeWarning: Calling `map_elements` without specifying `return_dtype` can lead to unpredictable results. Specify `return_dtype` to silence this warning.\n",
      "sys:1: MapWithoutReturnDtypeWarning: Calling `map_elements` without specifying `return_dtype` can lead to unpredictable results. Specify `return_dtype` to silence this warning.\n",
      "/tmp/ipykernel_15284/200782597.py:112: DeprecationWarning: `GroupBy.count` is deprecated. It has been renamed to `len`.\n",
      "  item_stats = train.group_by('item_id').count()\n"
     ]
    },
    {
     "data": {
      "text/plain": [
       "{'ndcg': 0.06307275178928959,\n",
       " 'hitrate': 0.7779758150758178,\n",
       " 'coverage': 0.507504784929989,\n",
       " 'novelty': 0.4764956090517431}"
      ]
     },
     "execution_count": 92,
     "metadata": {},
     "output_type": "execute_result"
    }
   ],
   "source": [
    "from rectools.model_selection.last_n_split import LastNSplitter\n",
    "from rectools.dataset.interactions import Interactions\n",
    "\n",
    "NUM_OF_SAMPELS = 40\n",
    "\n",
    "splitter  = LastNSplitter(NUM_OF_SAMPELS, filter_cold_users=True, filter_cold_items=True, filter_already_seen=True)\n",
    "\n",
    "train_ids, test_ids = [], []\n",
    "\n",
    "for train_ids, test_ids, _ in splitter.split(Interactions(ratings)):\n",
    "    train_ids, test_ids = train_ids, test_ids\n",
    "\n",
    "\n",
    "train = ratings.iloc[train_ids, :]\n",
    "test = ratings.iloc[test_ids, :]\n",
    "\n",
    "\n",
    "dataset = Dataset.construct(\n",
    "    interactions_df=train, \n",
    "    # item_features_df=anime,\n",
    "    )\n",
    "\n",
    "model = LightFMWrapperModel(LightFM(loss='warp-kos', no_components=1000), epochs=100, num_threads=12, verbose=True)\n",
    "model.fit(dataset)\n",
    "\n",
    "# Make recommendations\n",
    "recos = model.recommend(\n",
    "    users=test.user_id.unique(),\n",
    "    dataset=dataset,\n",
    "    k=NUM_OF_SAMPELS,\n",
    "    filter_viewed=True\n",
    ")\n",
    "\n",
    "\n",
    "pd.DataFrame(recos.groupby('user_id')['item_id'].apply(set)).to_parquet('submission.parquet')\n",
    "pd.DataFrame(test.groupby('user_id')['item_id'].apply(set)).to_parquet('gt.parquet')\n",
    "ratings.to_parquet('train.parquet')\n",
    "\n",
    "evaluate('gt.parquet', 'submission.parquet', 'train.parquet', NUM_OF_SAMPELS)"
   ]
  }
 ],
 "metadata": {
  "kernelspec": {
   "display_name": "Python 3",
   "language": "python",
   "name": "python3"
  },
  "language_info": {
   "codemirror_mode": {
    "name": "ipython",
    "version": 3
   },
   "file_extension": ".py",
   "mimetype": "text/x-python",
   "name": "python",
   "nbconvert_exporter": "python",
   "pygments_lexer": "ipython3",
   "version": "3.10.12"
  }
 },
 "nbformat": 4,
 "nbformat_minor": 2
}
